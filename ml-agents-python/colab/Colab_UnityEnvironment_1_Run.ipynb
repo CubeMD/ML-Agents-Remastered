{
 "cells": [
  {
   "cell_type": "markdown",
   "metadata": {
    "id": "pbVXrmEsLXDt"
   },
   "source": [
    "# ML-Agents Open a UnityEnvironment\n",
    "<img src=\"https://github.com/Unity-Technologies/ml-agents/blob/release_19_docs/docs/images/image-banner.png?raw=true\" align=\"middle\" width=\"435\"/>"
   ]
  },
  {
   "cell_type": "markdown",
   "metadata": {
    "id": "_u74YhSmW6gD"
   },
   "source": [
    "## Run the Environment"
   ]
  },
  {
   "cell_type": "code",
   "execution_count": 1,
   "metadata": {
    "id": "DpZPbRvRuLZv"
   },
   "outputs": [],
   "source": [
    "#@title Select Environment { display-mode: \"form\" }\n",
    "env_id = \"GridWorld\" #@param ['Basic', '3DBall', '3DBallHard', 'GridWorld', 'Hallway', 'VisualHallway', 'CrawlerDynamicTarget', 'CrawlerStaticTarget', 'Bouncer', 'SoccerTwos', 'PushBlock', 'VisualPushBlock', 'WallJump', 'Tennis', 'Reacher', 'Pyramids', 'VisualPyramids', 'Walker', 'FoodCollector', 'VisualFoodCollector', 'StrikersVsGoalie', 'WormStaticTarget', 'WormDynamicTarget']\n"
   ]
  },
  {
   "cell_type": "markdown",
   "metadata": {
    "id": "P-r_cB2rqp5x"
   },
   "source": [
    "### Start Environment from the registry"
   ]
  },
  {
   "cell_type": "code",
   "execution_count": 2,
   "metadata": {
    "id": "YSf-WhxbqtLw"
   },
   "outputs": [],
   "source": [
    "from mlagents_envs.registry import default_registry\n",
    "\n",
    "env = default_registry[env_id].make()"
   ]
  },
  {
   "cell_type": "markdown",
   "metadata": {
    "id": "h1lIx3_l24OP"
   },
   "source": [
    "### Reset the environment\n",
    "To reset the environment, simply call `env.reset()`. This method takes no argument and returns nothing but will send a signal to the simulation to reset."
   ]
  },
  {
   "cell_type": "code",
   "execution_count": 3,
   "metadata": {
    "id": "dhtl0mpeqxYi"
   },
   "outputs": [],
   "source": [
    "env.reset()"
   ]
  },
  {
   "cell_type": "markdown",
   "metadata": {
    "id": "k1rwnVq2qyoO"
   },
   "source": [
    "### Behavior Specs\n"
   ]
  },
  {
   "cell_type": "markdown",
   "metadata": {
    "id": "TrD0rSv92T8A"
   },
   "source": [
    "#### Get the Behavior Specs from the Environment"
   ]
  },
  {
   "cell_type": "code",
   "execution_count": 4,
   "metadata": {
    "id": "a7KatdThq7OV"
   },
   "outputs": [
    {
     "name": "stdout",
     "output_type": "stream",
     "text": [
      "Name of the behavior : GridWorld?team=0\n"
     ]
    }
   ],
   "source": [
    "# We will only consider the first Behavior\n",
    "behavior_name = list(env.behavior_specs)[0]\n",
    "print(f\"Name of the behavior : {behavior_name}\")\n",
    "spec = env.behavior_specs[behavior_name]"
   ]
  },
  {
   "cell_type": "markdown",
   "metadata": {
    "id": "m1L8DHADrAbe"
   },
   "source": [
    "#### Get the Observation Space from the Behavior Specs"
   ]
  },
  {
   "cell_type": "code",
   "execution_count": 5,
   "metadata": {
    "id": "PqDTV5mSrJF5"
   },
   "outputs": [
    {
     "name": "stdout",
     "output_type": "stream",
     "text": [
      "Number of observations :  1\n",
      "Is there a visual observation ? True\n"
     ]
    }
   ],
   "source": [
    "# Examine the number of observations per Agent\n",
    "print(\"Number of observations : \", len(spec.observation_specs))\n",
    "\n",
    "# Is there a visual observation ?\n",
    "# Visual observation have 3 dimensions: Height, Width and number of channels\n",
    "vis_obs = any(len(spec.shape) == 3 for spec in spec.observation_specs)\n",
    "print(\"Is there a visual observation ?\", vis_obs)"
   ]
  },
  {
   "cell_type": "markdown",
   "metadata": {
    "id": "yVLN_wbG1G5-"
   },
   "source": [
    "#### Get the Action Space from the Behavior Specs"
   ]
  },
  {
   "cell_type": "code",
   "execution_count": 6,
   "metadata": {
    "id": "M9zk1-az1L-G"
   },
   "outputs": [
    {
     "name": "stdout",
     "output_type": "stream",
     "text": [
      "There are 1 discrete actions\n",
      "Action number 0 has 5 different options\n"
     ]
    }
   ],
   "source": [
    "# Is the Action continuous or multi-discrete ?\n",
    "if spec.action_spec.continuous_size > 0:\n",
    "    print(f\"There are {spec.action_spec.continuous_size} continuous actions\")\n",
    "if spec.action_spec.is_discrete():\n",
    "    print(f\"There are {spec.action_spec.discrete_size} discrete actions\")\n",
    "\n",
    "\n",
    "# How many actions are possible ?\n",
    "#print(f\"There are {spec.action_size} action(s)\")\n",
    "\n",
    "# For discrete actions only : How many different options does each action has ?\n",
    "if spec.action_spec.discrete_size > 0:\n",
    "    for action, branch_size in enumerate(spec.action_spec.discrete_branches):\n",
    "        print(f\"Action number {action} has {branch_size} different options\")\n",
    "\n"
   ]
  },
  {
   "cell_type": "markdown",
   "metadata": {
    "id": "3cX07SGw22Lm"
   },
   "source": [
    "### Stepping the environment"
   ]
  },
  {
   "cell_type": "markdown",
   "metadata": {
    "id": "xO5p0s0prfsQ"
   },
   "source": [
    "#### Get the steps from the Environment\n",
    "You can do this with the `env.get_steps(behavior_name)` method. If there are multiple behaviors in the Environment, you can call this method with each of the behavior's names.\n",
    "_Note_ This will not move the simulation forward."
   ]
  },
  {
   "cell_type": "code",
   "execution_count": 7,
   "metadata": {
    "id": "ePZtcHXUrjyf"
   },
   "outputs": [],
   "source": [
    "decision_steps, terminal_steps = env.get_steps(behavior_name)"
   ]
  },
  {
   "cell_type": "markdown",
   "metadata": {
    "id": "f-Oj3ix530mx"
   },
   "source": [
    "#### Set actions for each behavior\n",
    "You can set the actions for the Agents of a Behavior by calling `env.set_actions()` you will need to specify the behavior name and pass a tensor of dimension 2. The first dimension of the action must be equal to the number of Agents that requested a decision during the step."
   ]
  },
  {
   "cell_type": "code",
   "execution_count": 8,
   "metadata": {
    "id": "KB-nxfbw337g"
   },
   "outputs": [],
   "source": [
    "env.set_actions(behavior_name, spec.action_spec.empty_action(len(decision_steps)))"
   ]
  },
  {
   "cell_type": "markdown",
   "metadata": {
    "id": "MQCybRs84cmq"
   },
   "source": [
    "#### Move the simulation forward\n",
    "Call `env.step()` to move the simulation forward. The simulation will progress until an Agent requestes a decision or terminates."
   ]
  },
  {
   "cell_type": "code",
   "execution_count": 9,
   "metadata": {
    "id": "nl3K40ZR4bh2"
   },
   "outputs": [],
   "source": [
    "env.step()"
   ]
  },
  {
   "cell_type": "markdown",
   "metadata": {
    "id": "i9gdextn2vJy"
   },
   "source": [
    "### Observations"
   ]
  },
  {
   "cell_type": "markdown",
   "metadata": {
    "id": "iAMqnnddr8Xo"
   },
   "source": [
    "#### Show the observations for one of the Agents\n",
    "`DecisionSteps.obs` is a tuple containing all of the observations for all of the Agents with the provided Behavior name.\n",
    "Each value in the tuple is an observation tensor containing the observation data for all of the agents."
   ]
  },
  {
   "cell_type": "code",
   "execution_count": 10,
   "metadata": {
    "id": "OJpta61TsBiO"
   },
   "outputs": [
    {
     "name": "stdout",
     "output_type": "stream",
     "text": [
      "Here is the first visual observation\n"
     ]
    },
    {
     "data": {
      "image/png": "[encoded data removed]",
      "text/plain": [
       "<Figure size 640x480 with 1 Axes>"
      ]
     },
     "metadata": {},
     "output_type": "display_data"
    }
   ],
   "source": [
    "import matplotlib.pyplot as plt\n",
    "%matplotlib inline\n",
    "\n",
    "for index, obs_spec in enumerate(spec.observation_specs):\n",
    "    if len(obs_spec.shape) == 3:\n",
    "        print(\"Here is the first visual observation\")\n",
    "        plt.imshow(decision_steps.obs[index][0,:,:,:])\n",
    "        plt.show()\n",
    "\n",
    "for index, obs_spec in enumerate(spec.observation_specs):\n",
    "    if len(obs_spec.shape) == 1:\n",
    "        print(\"First vector observations : \", decision_steps.obs[index][0,:])"
   ]
  },
  {
   "cell_type": "markdown",
   "metadata": {
    "id": "y60u21sys8kA"
   },
   "source": [
    "### Run the Environment for a few episodes"
   ]
  },
  {
   "cell_type": "code",
   "execution_count": 11,
   "metadata": {
    "id": "a2uQUsoMtIUK"
   },
   "outputs": [
    {
     "name": "stdout",
     "output_type": "stream",
     "text": [
      "Total rewards for episode 0 is -0.009999999776482582\n",
      "Total rewards for episode 0 is -0.019999999552965164\n",
      "Total rewards for episode 0 is -0.029999999329447746\n",
      "Total rewards for episode 0 is -0.03999999910593033\n",
      "Total rewards for episode 0 is -0.04999999888241291\n",
      "Total rewards for episode 0 is -0.05999999865889549\n",
      "Total rewards for episode 0 is -0.06999999843537807\n",
      "Total rewards for episode 0 is -0.07999999821186066\n",
      "Total rewards for episode 0 is -0.08999999798834324\n",
      "Total rewards for episode 0 is -0.09999999776482582\n",
      "Total rewards for episode 0 is -0.1099999975413084\n",
      "Total rewards for episode 0 is -0.11999999731779099\n",
      "Total rewards for episode 0 is -0.12999999709427357\n",
      "Total rewards for episode 0 is -0.13999999687075615\n",
      "Total rewards for episode 0 is -0.14999999664723873\n",
      "Total rewards for episode 0 is -0.1599999964237213\n",
      "Total rewards for episode 0 is -0.1699999962002039\n",
      "Total rewards for episode 0 is -0.17999999597668648\n",
      "Total rewards for episode 0 is -0.18999999575316906\n",
      "Total rewards for episode 0 is -0.19999999552965164\n",
      "Total rewards for episode 0 is -0.20999999530613422\n",
      "Total rewards for episode 0 is -0.2199999950826168\n",
      "Total rewards for episode 0 is -0.2299999948590994\n",
      "Total rewards for episode 0 is -0.23999999463558197\n",
      "Total rewards for episode 0 is -0.24999999441206455\n",
      "Total rewards for episode 0 is -0.25999999418854713\n",
      "Total rewards for episode 0 is -0.2699999939650297\n",
      "Total rewards for episode 0 is -0.2799999937415123\n",
      "Total rewards for episode 0 is -0.2899999935179949\n",
      "Total rewards for episode 0 is -0.29999999329447746\n",
      "Total rewards for episode 0 is -0.30999999307096004\n",
      "Total rewards for episode 0 is -0.3199999928474426\n",
      "Total rewards for episode 0 is -0.3299999926239252\n",
      "Total rewards for episode 0 is -0.3399999924004078\n",
      "Total rewards for episode 0 is -0.3499999921768904\n",
      "Total rewards for episode 0 is -0.35999999195337296\n",
      "Total rewards for episode 0 is -0.36999999172985554\n",
      "Total rewards for episode 0 is -0.3799999915063381\n",
      "Total rewards for episode 0 is -0.3899999912828207\n",
      "Total rewards for episode 0 is 0.6100000087171793\n",
      "Total rewards for episode 1 is -0.009999999776482582\n",
      "Total rewards for episode 1 is -0.019999999552965164\n",
      "Total rewards for episode 1 is -0.029999999329447746\n",
      "Total rewards for episode 1 is -0.03999999910593033\n",
      "Total rewards for episode 1 is -0.04999999888241291\n",
      "Total rewards for episode 1 is -0.05999999865889549\n",
      "Total rewards for episode 1 is -0.06999999843537807\n",
      "Total rewards for episode 1 is -0.07999999821186066\n",
      "Total rewards for episode 1 is -0.08999999798834324\n",
      "Total rewards for episode 1 is -0.09999999776482582\n",
      "Total rewards for episode 1 is -0.1099999975413084\n",
      "Total rewards for episode 1 is -0.11999999731779099\n",
      "Total rewards for episode 1 is -0.12999999709427357\n",
      "Total rewards for episode 1 is -0.13999999687075615\n",
      "Total rewards for episode 1 is -0.14999999664723873\n",
      "Total rewards for episode 1 is -0.1599999964237213\n",
      "Total rewards for episode 1 is -0.1699999962002039\n",
      "Total rewards for episode 1 is -0.17999999597668648\n",
      "Total rewards for episode 1 is -0.18999999575316906\n",
      "Total rewards for episode 1 is -0.19999999552965164\n",
      "Total rewards for episode 1 is -0.20999999530613422\n",
      "Total rewards for episode 1 is -0.2199999950826168\n",
      "Total rewards for episode 1 is -0.2299999948590994\n",
      "Total rewards for episode 1 is -0.23999999463558197\n",
      "Total rewards for episode 1 is -0.24999999441206455\n",
      "Total rewards for episode 1 is -0.25999999418854713\n",
      "Total rewards for episode 1 is -0.2699999939650297\n",
      "Total rewards for episode 1 is -0.2799999937415123\n",
      "Total rewards for episode 1 is -0.2899999935179949\n",
      "Total rewards for episode 1 is -0.29999999329447746\n",
      "Total rewards for episode 1 is -0.30999999307096004\n",
      "Total rewards for episode 1 is -0.3199999928474426\n",
      "Total rewards for episode 1 is -0.3299999926239252\n",
      "Total rewards for episode 1 is -0.3399999924004078\n",
      "Total rewards for episode 1 is -0.3499999921768904\n",
      "Total rewards for episode 1 is -0.35999999195337296\n",
      "Total rewards for episode 1 is -0.36999999172985554\n",
      "Total rewards for episode 1 is -0.3799999915063381\n",
      "Total rewards for episode 1 is -0.3899999912828207\n",
      "Total rewards for episode 1 is -0.3999999910593033\n",
      "Total rewards for episode 1 is -0.40999999083578587\n",
      "Total rewards for episode 1 is 0.5900000091642141\n",
      "Total rewards for episode 2 is -0.009999999776482582\n",
      "Total rewards for episode 2 is -0.019999999552965164\n",
      "Total rewards for episode 2 is -0.029999999329447746\n",
      "Total rewards for episode 2 is 0.9700000006705523\n"
     ]
    }
   ],
   "source": [
    "for episode in range(3):\n",
    "    env.reset()\n",
    "    decision_steps, terminal_steps = env.get_steps(behavior_name)\n",
    "    tracked_agent = -1 # -1 indicates not yet tracking\n",
    "    done = False # For the tracked_agent\n",
    "    episode_rewards = 0 # For the tracked_agent\n",
    "    while not done:\n",
    "        # Track the first agent we see if not tracking\n",
    "        # Note : len(decision_steps) = [number of agents that requested a decision]\n",
    "        if tracked_agent == -1 and len(decision_steps) >= 1:\n",
    "            tracked_agent = decision_steps.agent_id[0]\n",
    "\n",
    "        # Generate an action for all agents\n",
    "        action = spec.action_spec.random_action(len(decision_steps))\n",
    "\n",
    "        # Set the actions\n",
    "        env.set_actions(behavior_name, action)\n",
    "\n",
    "        # Move the simulation forward\n",
    "        env.step()\n",
    "\n",
    "        # Get the new simulation results\n",
    "        decision_steps, terminal_steps = env.get_steps(behavior_name)\n",
    "        if tracked_agent in decision_steps: # The agent requested a decision\n",
    "            episode_rewards += decision_steps[tracked_agent].reward\n",
    "        if tracked_agent in terminal_steps: # The agent terminated its episode\n",
    "            episode_rewards += terminal_steps[tracked_agent].reward\n",
    "            done = True\n",
    "        print(f\"Total rewards for episode {episode} is {episode_rewards}\")"
   ]
  },
  {
   "cell_type": "markdown",
   "metadata": {
    "id": "R-3grXNEtJPa"
   },
   "source": [
    "### Close the Environment to free the port it is using"
   ]
  },
  {
   "cell_type": "code",
   "execution_count": 12,
   "metadata": {
    "id": "vdWG6_SqtNtv"
   },
   "outputs": [
    {
     "name": "stdout",
     "output_type": "stream",
     "text": [
      "Closed environment\n"
     ]
    }
   ],
   "source": [
    "env.close()\n",
    "print(\"Closed environment\")"
   ]
  },
  {
   "cell_type": "code",
   "execution_count": null,
   "metadata": {},
   "outputs": [],
   "source": []
  }
 ],
 "metadata": {
  "colab": {
   "collapsed_sections": [],
   "name": "Colab-UnityEnvironment-1-Run.ipynb",
   "private_outputs": true,
   "provenance": [],
   "toc_visible": true
  },
  "kernelspec": {
   "display_name": "Python 3 (ipykernel)",
   "language": "python",
   "name": "python3"
  },
  "language_info": {
   "codemirror_mode": {
    "name": "ipython",
    "version": 3
   },
   "file_extension": ".py",
   "mimetype": "text/x-python",
   "name": "python",
   "nbconvert_exporter": "python",
   "pygments_lexer": "ipython3",
   "version": "3.7.13"
  },
  "pycharm": {
   "stem_cell": {
    "cell_type": "raw",
    "metadata": {
     "collapsed": false
    },
    "source": []
   }
  }
 },
 "nbformat": 4,
 "nbformat_minor": 4
}
